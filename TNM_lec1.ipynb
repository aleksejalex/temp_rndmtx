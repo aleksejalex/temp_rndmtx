{
 "cells": [
  {
   "cell_type": "markdown",
   "metadata": {
    "colab_type": "text",
    "id": "view-in-github"
   },
   "source": [
    "<a href=\"https://colab.research.google.com/github/aleksejalex/temp_rndmtx/blob/main/TNM_lec1.ipynb\" target=\"_parent\"><img src=\"https://colab.research.google.com/assets/colab-badge.svg\" alt=\"Open In Colab\"/></a>"
   ]
  },
  {
   "cell_type": "code",
   "execution_count": 15,
   "metadata": {
    "id": "krINAbVhdQmO"
   },
   "outputs": [],
   "source": [
    "import numpy as np\n",
    "import scipy as scp\n",
    "import seaborn as sbn\n",
    "import matplotlib.pyplot as plt\n",
    "import pickle\n",
    "import statsmodels as sm"
   ]
  },
  {
   "cell_type": "code",
   "execution_count": 16,
   "metadata": {},
   "outputs": [],
   "source": [
    "from reliability.Fitters import Fit_Everything"
   ]
  },
  {
   "cell_type": "code",
   "execution_count": 2,
   "metadata": {
    "id": "vKHMmdRJv35P"
   },
   "outputs": [],
   "source": [
    "# !pip install github"
   ]
  },
  {
   "cell_type": "markdown",
   "metadata": {
    "id": "fTmNqT2epbIA"
   },
   "source": [
    "## definice a test fci"
   ]
  },
  {
   "cell_type": "code",
   "execution_count": 3,
   "metadata": {
    "id": "upubL5e2dXu4"
   },
   "outputs": [],
   "source": [
    "def generate_H(N: int = 8, seed: int = 13):\n",
    "    #np.random.seed(seed=seed)\n",
    "    H = np.zeros([N,N])\n",
    "    for i in range(N):\n",
    "        for j in range(N):\n",
    "            if i!=j:\n",
    "                mu = 0\n",
    "                sigma = 1\n",
    "                H[i,j] = mu + sigma * np.random.randn()\n",
    "            else:\n",
    "                mu = 0\n",
    "                sigma = 2\n",
    "                H[i,i] = mu + sigma * np.random.randn()\n",
    "    return H"
   ]
  },
  {
   "cell_type": "code",
   "execution_count": 4,
   "metadata": {
    "colab": {
     "base_uri": "https://localhost:8080/"
    },
    "id": "UV47N2C7dX2o",
    "outputId": "455d4207-1904-4e29-925f-b3df45a94213"
   },
   "outputs": [
    {
     "name": "stdout",
     "output_type": "stream",
     "text": [
      "[[ 2.87295018  1.18103432 -0.21320614]\n",
      " [ 0.44481946  1.75847344  0.90832347]\n",
      " [-0.03395813  1.34997377  0.48784013]]\n"
     ]
    }
   ],
   "source": [
    "H = generate_H(3)\n",
    "print(H)"
   ]
  },
  {
   "cell_type": "code",
   "execution_count": 5,
   "metadata": {
    "id": "2bxced5Zgfya"
   },
   "outputs": [],
   "source": [
    "def symmetrize(H):\n",
    "    return (H+H.T) *(1/np.sqrt(2))"
   ]
  },
  {
   "cell_type": "code",
   "execution_count": 6,
   "metadata": {
    "colab": {
     "base_uri": "https://localhost:8080/"
    },
    "id": "ofb4Si99gfq1",
    "outputId": "3736741b-6d0e-4fa6-b5a9-3ac2b3a7552d"
   },
   "outputs": [
    {
     "name": "stdout",
     "output_type": "stream",
     "text": [
      "[[ 4.06296511  1.14965224 -0.17477153]\n",
      " [ 1.14965224  2.48685699  1.59685729]\n",
      " [-0.17477153  1.59685729  0.68991013]]\n"
     ]
    }
   ],
   "source": [
    "H_sym = symmetrize(H)\n",
    "print(H_sym)"
   ]
  },
  {
   "cell_type": "code",
   "execution_count": 7,
   "metadata": {
    "id": "DQKyCIwNgfjY"
   },
   "outputs": [],
   "source": [
    "def get_eigs(H):\n",
    "    spectral_analysis = np.linalg.eig(H)\n",
    "    eig_vals = spectral_analysis[0]\n",
    "    return eig_vals"
   ]
  },
  {
   "cell_type": "code",
   "execution_count": 8,
   "metadata": {
    "colab": {
     "base_uri": "https://localhost:8080/"
    },
    "id": "mgJMUkWKjU2d",
    "outputId": "1fe4091c-874b-44a9-a7b4-0ac7ea951dee"
   },
   "outputs": [
    {
     "data": {
      "text/plain": [
       "array([ 4.77374952,  2.83662729, -0.37064459])"
      ]
     },
     "execution_count": 8,
     "metadata": {},
     "output_type": "execute_result"
    }
   ],
   "source": [
    "get_eigs(H_sym)"
   ]
  },
  {
   "cell_type": "markdown",
   "metadata": {
    "id": "YckiIVg4pY1S"
   },
   "source": [
    "## experiment"
   ]
  },
  {
   "cell_type": "code",
   "execution_count": 9,
   "metadata": {
    "id": "fnrS7BUJRMz6"
   },
   "outputs": [],
   "source": [
    "\"\"\" define a function 'experiment' that  \"\"\"\n",
    "def experiment(name:str = 'none', num_of_dims_of_mtx: int = 3, print_result: bool = False, seed = 13):\n",
    "    result = []\n",
    "    K = generate_H(num_of_dims_of_mtx, seed=seed)\n",
    "    K_sym = symmetrize(K)\n",
    "    eigs = get_eigs(K_sym)\n",
    "    result.extend(eigs.tolist())\n",
    "    if print_result:\n",
    "        print(result)\n",
    "    return result"
   ]
  },
  {
   "cell_type": "code",
   "execution_count": 10,
   "metadata": {
    "colab": {
     "base_uri": "https://localhost:8080/"
    },
    "id": "Ho3qZZvlRwkE",
    "outputId": "3821aef7-e683-40cb-be62-a375af145b0d"
   },
   "outputs": [
    {
     "name": "stdout",
     "output_type": "stream",
     "text": [
      "[-3.928755409749838, 2.9671188842092815, 1.6873003979868926]\n",
      "[0.049988540896573674, 1.6478097087771528, 4.26938524633538]\n"
     ]
    }
   ],
   "source": [
    "# testing experiment function >>\n",
    "for _ in range(2):\n",
    "    experiment(num_of_dims_of_mtx=3, print_result=True)"
   ]
  },
  {
   "cell_type": "code",
   "execution_count": 11,
   "metadata": {
    "colab": {
     "base_uri": "https://localhost:8080/",
     "height": 392
    },
    "id": "_iWwVSmljUl0",
    "outputId": "d98a1e13-3fcf-4ad1-9fa2-b18eeab71192"
   },
   "outputs": [],
   "source": [
    "num_of_experiments = 1000\n",
    "num_of_dims_of_mtx = 80\n",
    "results = []\n",
    "for i in range(num_of_experiments):\n",
    "    K = generate_H(num_of_dims_of_mtx)\n",
    "    K_sym = symmetrize(K)\n",
    "    eigs = get_eigs(K_sym)\n",
    "    #results.append(eigs)\n",
    "    results.extend(eigs.tolist())\n",
    "\n",
    "#print(results)"
   ]
  },
  {
   "cell_type": "code",
   "execution_count": 12,
   "metadata": {
    "colab": {
     "base_uri": "https://localhost:8080/"
    },
    "id": "_tcmAix-nWLv",
    "outputId": "61b90f1c-0538-45bb-bc2b-55eca3a8ecd1"
   },
   "outputs": [
    {
     "data": {
      "text/plain": [
       "80000"
      ]
     },
     "execution_count": 12,
     "metadata": {},
     "output_type": "execute_result"
    }
   ],
   "source": [
    "len(results)"
   ]
  },
  {
   "cell_type": "code",
   "execution_count": 13,
   "metadata": {
    "id": "NUPTRZHWrw3J"
   },
   "outputs": [],
   "source": [
    "# save current experiment (manual use)\n",
    "with open(\"exp_8mtx_1000_temp3.pk1\", \"wb\") as file:\n",
    "    pickle.dump(results, file)"
   ]
  },
  {
   "cell_type": "code",
   "execution_count": 14,
   "metadata": {
    "colab": {
     "base_uri": "https://localhost:8080/",
     "height": 372
    },
    "id": "ZnRuZJ6xjUHJ",
    "outputId": "779802d1-c826-4348-f630-5d54b7032f40"
   },
   "outputs": [
    {
     "data": {
      "image/png": "[encoded data removed]",
      "text/plain": [
       "<Figure size 720x360 with 1 Axes>"
      ]
     },
     "metadata": {},
     "output_type": "display_data"
    }
   ],
   "source": [
    "plt.figure(figsize=(6,3), dpi=120)\n",
    "sbn.histplot(results, kde=True)\n",
    "\n",
    "plt.xlabel('eigenvalues')\n",
    "plt.savefig('hist_8_1000_temp3.png', dpi=300)\n",
    "\n",
    "plt.show()"
   ]
  },
  {
   "cell_type": "code",
   "execution_count": 19,
   "metadata": {
    "id": "IzVGcRAMnpMD"
   },
   "outputs": [],
   "source": [
    "# vysledky jakz takz pro:\n",
    "# - N = 80\n",
    "# - num_of_experiments = 10000 a vice\n",
    "# - diagonala z N(0,1), nediagonala z N(0,2)"
   ]
  },
  {
   "cell_type": "markdown",
   "metadata": {
    "id": "8XBcGNAcQ6-9"
   },
   "source": [
    "## paralelize"
   ]
  },
  {
   "cell_type": "code",
   "execution_count": 16,
   "metadata": {
    "id": "uzgN6IhD_28R"
   },
   "outputs": [],
   "source": [
    "import multiprocessing"
   ]
  },
  {
   "cell_type": "code",
   "execution_count": 17,
   "metadata": {
    "colab": {
     "base_uri": "https://localhost:8080/"
    },
    "id": "1zNOgXaJ_tYn",
    "outputId": "abece061-2583-4c3a-8fd3-0dbfb4e75428"
   },
   "outputs": [
    {
     "name": "stdout",
     "output_type": "stream",
     "text": [
      "Number of CPU cores available: 16\n"
     ]
    }
   ],
   "source": [
    "num_cores = multiprocessing.cpu_count()\n",
    "print(f\"Number of CPU cores available: {num_cores}\")"
   ]
  },
  {
   "cell_type": "code",
   "execution_count": null,
   "metadata": {
    "colab": {
     "base_uri": "https://localhost:8080/",
     "height": 913
    },
    "id": "QMsb2SsQQ91S",
    "outputId": "14b339e2-a488-4407-e897-62c89b1b2d5c"
   },
   "outputs": [],
   "source": [
    "if __name__ == \"__main__\":\n",
    "    # Number of parallel processes\n",
    "    num_processes = 4  # You can adjust this to your hardware capabilities\n",
    "    num_of_experiments = 10\n",
    "    num_of_dims_of_mtx = 8\n",
    "\n",
    "    # Create a multiprocessing pool\n",
    "    pool = multiprocessing.Pool(processes=num_processes)\n",
    "\n",
    "    # Define the arguments for each run of function 'experiment()'\n",
    "    a_values = [None] * num_of_experiments  # names of experiments\n",
    "    b_values = [num_of_dims_of_mtx] * num_of_experiments  # dimensions of matrices\n",
    "    c_values = [False] * num_of_experiments  # printing suppresed\n",
    "    d_values = [13] * num_of_experiments  # Example values for 'c'\\\n",
    "    d_values = list(range(1, num_of_experiments+1)) # random seeds (otherwise each thread gives deterministic results)\n",
    "\n",
    "    # Create a list of argument tuples for foo\n",
    "    # args for 'experiment' func >>> (name:str = 'none', num_of_dims_of_mtx: int = 3, print_result: bool = False)\n",
    "    arguments = [(name, num_of_dims_of_mtx, print_result, seed) for name, num_of_dims_of_mtx, print_result, seed in zip(a_values, b_values, c_values, d_values)]\n",
    "\n",
    "    # Use Pool.starmap to run foo in parallel\n",
    "    results = pool.starmap(experiment, arguments)\n",
    "\n",
    "    # Close the pool (no more tasks can be added)\n",
    "    pool.close()\n",
    "\n",
    "    # Wait for all processes to complete\n",
    "    pool.join()\n",
    "\n",
    "    # 'results' will contain the results of running foo for each set of arguments\n",
    "    #print(results)\n"
   ]
  },
  {
   "cell_type": "code",
   "execution_count": null,
   "metadata": {
    "colab": {
     "base_uri": "https://localhost:8080/"
    },
    "id": "_duB-e6H8QKv",
    "outputId": "c755e2d0-6aaa-4c53-81c6-8469fadcb00f"
   },
   "outputs": [],
   "source": [
    "len(results)"
   ]
  },
  {
   "cell_type": "code",
   "execution_count": null,
   "metadata": {
    "colab": {
     "base_uri": "https://localhost:8080/",
     "height": 264
    },
    "id": "Eyqi5Lzn9hXW",
    "outputId": "7fd79fd4-ca4b-4606-e6c1-220d67f81628"
   },
   "outputs": [],
   "source": [
    "# concatenate values from all pools into one list\n",
    "results_par = [item for sublist in results for item in sublist]"
   ]
  },
  {
   "cell_type": "code",
   "execution_count": null,
   "metadata": {
    "id": "QMnRYDz78SRu"
   },
   "outputs": [],
   "source": [
    "plt.figure(figsize=(6,3), dpi=120)\n",
    "sbn.histplot(results_par, kde=True)\n",
    "\n",
    "plt.xlabel('eigenvalues')\n",
    "plt.savefig('test_img.png', dpi=300)\n",
    "\n",
    "plt.show()"
   ]
  },
  {
   "cell_type": "code",
   "execution_count": null,
   "metadata": {
    "id": "PHJWe9pW8SJp"
   },
   "outputs": [],
   "source": []
  },
  {
   "cell_type": "code",
   "execution_count": null,
   "metadata": {
    "id": "haNiIcsk-rGA"
   },
   "outputs": [],
   "source": [
    "# is it normal distribution?\n",
    "from scipy.stats import shapiro\n",
    "import random\n",
    "\n",
    "# Generate some example data (replace this with your actual data)\n",
    "data = [random.normalvariate(0, 1) for _ in range(100)]\n",
    "data = results_par\n",
    "\n",
    "# Perform the Shapiro-Wilk test\n",
    "statistic, p_value = shapiro(data)\n",
    "\n",
    "# Set a significance level (e.g., 0.05)\n",
    "alpha = 0.05\n",
    "\n",
    "# Check if the p-value is less than the significance level\n",
    "if p_value > alpha:\n",
    "    print(\"Data looks like it comes from a normal distribution (fail to reject H0)\")\n",
    "else:\n",
    "    print(\"Data does not look like it comes from a normal distribution (reject H0)\")\n"
   ]
  },
  {
   "cell_type": "markdown",
   "metadata": {
    "id": "5yIU17mUH-pL"
   },
   "source": [
    "## END"
   ]
  },
  {
   "cell_type": "markdown",
   "metadata": {
    "id": "qlm-rDBLrTGW"
   },
   "source": [
    "## saving and loading python objects"
   ]
  },
  {
   "cell_type": "markdown",
   "metadata": {
    "id": "5-87b5RfuDkB"
   },
   "source": [
    "### save>>"
   ]
  },
  {
   "cell_type": "code",
   "execution_count": null,
   "metadata": {
    "id": "LYGIIEmne1-N"
   },
   "outputs": [],
   "source": [
    "import pickle\n",
    "\n",
    "# Your list data\n",
    "my_list = [1, 2, 3, 4, 5]\n",
    "\n",
    "# Specify the file name where you want to save the list\n",
    "file_name = \"my_list.pkl\"\n",
    "\n",
    "# Open the file in binary write mode and save the list using pickle\n",
    "with open(file_name, \"wb\") as file:\n",
    "    pickle.dump(my_list, file)\n",
    "\n",
    "del(my_list)"
   ]
  },
  {
   "cell_type": "markdown",
   "metadata": {
    "id": "AcOgP7wluGbg"
   },
   "source": [
    "### load>>"
   ]
  },
  {
   "cell_type": "code",
   "execution_count": null,
   "metadata": {
    "id": "HxZLxxX7e14c"
   },
   "outputs": [],
   "source": [
    "import pickle\n",
    "\n",
    "# Specify the file name from which to load the list\n",
    "file_name = \"my_list.pkl\"\n",
    "\n",
    "# Open the file in binary read mode and load the list using pickle\n",
    "with open(file_name, \"rb\") as file:\n",
    "    loaded_list = pickle.load(file)\n",
    "\n",
    "# Now, loaded_list contains the data from the saved list\n",
    "print(loaded_list)\n"
   ]
  },
  {
   "cell_type": "code",
   "execution_count": null,
   "metadata": {
    "id": "utsssIy0e09k"
   },
   "outputs": [],
   "source": []
  },
  {
   "cell_type": "markdown",
   "metadata": {
    "id": "szwDoDKm069s"
   },
   "source": [
    "## paralel computing"
   ]
  },
  {
   "cell_type": "code",
   "execution_count": 30,
   "metadata": {
    "id": "_CuKkMwrpt1q"
   },
   "outputs": [
    {
     "name": "stdout",
     "output_type": "stream",
     "text": [
      "[111, 222, 333, 444, 555]\n"
     ]
    }
   ],
   "source": [
    "import multiprocessing\n",
    "\n",
    "# Define your function\n",
    "def foo(a, b, c):\n",
    "    # Your function logic here\n",
    "    result = a + b + c\n",
    "    return result\n",
    "\n",
    "if __name__ == \"__main__\":\n",
    "    # Number of parallel processes\n",
    "    num_processes = 4  # You can adjust this to your hardware capabilities\n",
    "\n",
    "    # Create a multiprocessing pool\n",
    "    pool = multiprocessing.Pool(processes=num_processes)\n",
    "\n",
    "    # Define the arguments for foo function\n",
    "    a_values = [1, 2, 3, 4, 5]  # Example values for 'a'\n",
    "    b_values = [10, 20, 30, 40, 50]  # Example values for 'b'\n",
    "    c_values = [100, 200, 300, 400, 500]  # Example values for 'c'\n",
    "\n",
    "    # Create a list of argument tuples for foo\n",
    "    arguments = [(a, b, c) for a, b, c in zip(a_values, b_values, c_values)]\n",
    "\n",
    "    # Use Pool.starmap to run foo in parallel\n",
    "    results = pool.starmap(foo, arguments)\n",
    "\n",
    "    # Close the pool (no more tasks can be added)\n",
    "    pool.close()\n",
    "\n",
    "    # Wait for all processes to complete\n",
    "    pool.join()\n",
    "\n",
    "    # 'results' will contain the results of running foo for each set of arguments\n",
    "    print(results)\n"
   ]
  },
  {
   "cell_type": "code",
   "execution_count": null,
   "metadata": {
    "id": "VD5-iAXfptzZ"
   },
   "outputs": [],
   "source": []
  }
 ],
 "metadata": {
  "colab": {
   "authorship_tag": "ABX9TyOBLNcqrKLh9ZZrN/2drqrE",
   "include_colab_link": true,
   "provenance": [],
   "toc_visible": true
  },
  "kernelspec": {
   "display_name": "Python 3 (ipykernel)",
   "language": "python",
   "name": "python3"
  },
  "language_info": {
   "codemirror_mode": {
    "name": "ipython",
    "version": 3
   },
   "file_extension": ".py",
   "mimetype": "text/x-python",
   "name": "python",
   "nbconvert_exporter": "python",
   "pygments_lexer": "ipython3",
   "version": "3.11.6"
  }
 },
 "nbformat": 4,
 "nbformat_minor": 4
}
