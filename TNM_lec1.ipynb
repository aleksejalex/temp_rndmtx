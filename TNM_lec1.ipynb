{
  "nbformat": 4,
  "nbformat_minor": 0,
  "metadata": {
    "colab": {
      "provenance": [],
      "toc_visible": true,
      "authorship_tag": "ABX9TyO2kK1rRA8Umda70jLXlnAg",
      "include_colab_link": true
    },
    "kernelspec": {
      "name": "python3",
      "display_name": "Python 3"
    },
    "language_info": {
      "name": "python"
    }
  },
  "cells": [
    {
      "cell_type": "markdown",
      "metadata": {
        "id": "view-in-github",
        "colab_type": "text"
      },
      "source": [
        "<a href=\"https://colab.research.google.com/github/aleksejalex/temp_rndmtx/blob/main/TNM_lec1.ipynb\" target=\"_parent\"><img src=\"https://colab.research.google.com/assets/colab-badge.svg\" alt=\"Open In Colab\"/></a>"
      ]
    },
    {
      "cell_type": "code",
      "execution_count": 1,
      "metadata": {
        "id": "krINAbVhdQmO"
      },
      "outputs": [],
      "source": [
        "import numpy as np\n",
        "import scipy as scp\n",
        "import sympy as sp\n",
        "import seaborn as sbn\n",
        "import matplotlib.pyplot as plt\n",
        "import pickle"
      ]
    },
    {
      "cell_type": "code",
      "source": [
        "# !pip install github"
      ],
      "metadata": {
        "id": "vKHMmdRJv35P"
      },
      "execution_count": 2,
      "outputs": []
    },
    {
      "cell_type": "markdown",
      "source": [
        "## definice a test fci"
      ],
      "metadata": {
        "id": "fTmNqT2epbIA"
      }
    },
    {
      "cell_type": "code",
      "source": [
        "def generate_H(N: int = 8):\n",
        "    H = np.zeros([N,N])\n",
        "    for i in range(N):\n",
        "        for j in range(N):\n",
        "            if i!=j:\n",
        "                mu = 0\n",
        "                sigma = 1\n",
        "                H[i,j] = mu + sigma * np.random.randn()\n",
        "            else:\n",
        "                mu = 0\n",
        "                sigma = 2\n",
        "                H[i,i] = mu + sigma * np.random.randn()\n",
        "    return H"
      ],
      "metadata": {
        "id": "upubL5e2dXu4"
      },
      "execution_count": 3,
      "outputs": []
    },
    {
      "cell_type": "code",
      "source": [
        "H = generate_H(3)\n",
        "print(H)"
      ],
      "metadata": {
        "id": "UV47N2C7dX2o",
        "colab": {
          "base_uri": "https://localhost:8080/"
        },
        "outputId": "99749b92-c20f-427b-cc07-9470190b5f4f"
      },
      "execution_count": 4,
      "outputs": [
        {
          "output_type": "stream",
          "name": "stdout",
          "text": [
            "[[-1.60361922  0.01312727 -1.410043  ]\n",
            " [ 1.06835726  1.6511996   0.22526633]\n",
            " [-0.29716943 -1.03869448 -1.73435132]]\n"
          ]
        }
      ]
    },
    {
      "cell_type": "code",
      "source": [
        "def symmetrize(H):\n",
        "    return (H+H.T) *(1/np.sqrt(2))"
      ],
      "metadata": {
        "id": "2bxced5Zgfya"
      },
      "execution_count": 5,
      "outputs": []
    },
    {
      "cell_type": "code",
      "source": [
        "H_sym = symmetrize(H)\n",
        "print(H_sym)"
      ],
      "metadata": {
        "colab": {
          "base_uri": "https://localhost:8080/"
        },
        "id": "ofb4Si99gfq1",
        "outputId": "4e007e4b-05fa-4fed-8d56-3195336dfa42"
      },
      "execution_count": 6,
      "outputs": [
        {
          "output_type": "stream",
          "name": "stdout",
          "text": [
            "[[-2.26786006  0.76472505 -1.20718149]\n",
            " [ 0.76472505  2.33514887 -0.57518056]\n",
            " [-1.20718149 -0.57518056 -2.45274315]]\n"
          ]
        }
      ]
    },
    {
      "cell_type": "code",
      "source": [
        "def get_eigs(H):\n",
        "    spectral_analysis = np.linalg.eig(H)\n",
        "    eig_vals = spectral_analysis[0]\n",
        "    return eig_vals"
      ],
      "metadata": {
        "id": "DQKyCIwNgfjY"
      },
      "execution_count": 7,
      "outputs": []
    },
    {
      "cell_type": "code",
      "source": [
        "get_eigs(H_sym)"
      ],
      "metadata": {
        "colab": {
          "base_uri": "https://localhost:8080/"
        },
        "id": "mgJMUkWKjU2d",
        "outputId": "114f5db4-cd73-4d86-b770-4244e3eb9673"
      },
      "execution_count": 8,
      "outputs": [
        {
          "output_type": "execute_result",
          "data": {
            "text/plain": [
              "array([-3.57274337, -1.39237966,  2.57966869])"
            ]
          },
          "metadata": {},
          "execution_count": 8
        }
      ]
    },
    {
      "cell_type": "markdown",
      "source": [
        "## experiment"
      ],
      "metadata": {
        "id": "YckiIVg4pY1S"
      }
    },
    {
      "cell_type": "code",
      "source": [
        "\"\"\" define a function 'experiment' that  \"\"\"\n",
        "def experiment(name:str = 'none', num_of_dims_of_mtx: int = 3, print_result: bool = False):\n",
        "    result = []\n",
        "    K = generate_H(num_of_dims_of_mtx)\n",
        "    K_sym = symmetrize(K)\n",
        "    eigs = get_eigs(K_sym)\n",
        "    result.extend(eigs.tolist())\n",
        "    if print_result:\n",
        "        print(result)\n",
        "    return result"
      ],
      "metadata": {
        "id": "fnrS7BUJRMz6"
      },
      "execution_count": 9,
      "outputs": []
    },
    {
      "cell_type": "code",
      "source": [
        "# testing experiment function >>\n",
        "for _ in range(2):\n",
        "    experiment(num_of_dims_of_mtx=3, print_result=True)"
      ],
      "metadata": {
        "colab": {
          "base_uri": "https://localhost:8080/"
        },
        "id": "Ho3qZZvlRwkE",
        "outputId": "8f5255c6-71c5-4f00-c825-73c63a023d08"
      },
      "execution_count": 10,
      "outputs": [
        {
          "output_type": "stream",
          "name": "stdout",
          "text": [
            "[5.846845398815066, -1.145216429863816, -1.5999103631822955]\n",
            "[2.5855572188790803, 0.25033830727841605, -1.092847099525024]\n"
          ]
        }
      ]
    },
    {
      "cell_type": "code",
      "source": [
        "num_of_experiments = 100000\n",
        "num_of_dims_of_mtx = 80\n",
        "results = []\n",
        "for i in range(num_of_experiments):\n",
        "    K = generate_H(num_of_dims_of_mtx)\n",
        "    K_sym = symmetrize(K)\n",
        "    eigs = get_eigs(K_sym)\n",
        "    #results.append(eigs)\n",
        "    results.extend(eigs.tolist())\n",
        "\n",
        "#print(results)"
      ],
      "metadata": {
        "colab": {
          "base_uri": "https://localhost:8080/",
          "height": 392
        },
        "id": "_iWwVSmljUl0",
        "outputId": "9e8db6f1-954f-415c-99bf-102aec358343"
      },
      "execution_count": 11,
      "outputs": [
        {
          "output_type": "error",
          "ename": "KeyboardInterrupt",
          "evalue": "ignored",
          "traceback": [
            "\u001b[0;31m---------------------------------------------------------------------------\u001b[0m",
            "\u001b[0;31mKeyboardInterrupt\u001b[0m                         Traceback (most recent call last)",
            "\u001b[0;32m<ipython-input-11-31e8c5416923>\u001b[0m in \u001b[0;36m<cell line: 4>\u001b[0;34m()\u001b[0m\n\u001b[1;32m      5\u001b[0m     \u001b[0mK\u001b[0m \u001b[0;34m=\u001b[0m \u001b[0mgenerate_H\u001b[0m\u001b[0;34m(\u001b[0m\u001b[0mnum_of_dims_of_mtx\u001b[0m\u001b[0;34m)\u001b[0m\u001b[0;34m\u001b[0m\u001b[0;34m\u001b[0m\u001b[0m\n\u001b[1;32m      6\u001b[0m     \u001b[0mK_sym\u001b[0m \u001b[0;34m=\u001b[0m \u001b[0msymmetrize\u001b[0m\u001b[0;34m(\u001b[0m\u001b[0mK\u001b[0m\u001b[0;34m)\u001b[0m\u001b[0;34m\u001b[0m\u001b[0;34m\u001b[0m\u001b[0m\n\u001b[0;32m----> 7\u001b[0;31m     \u001b[0meigs\u001b[0m \u001b[0;34m=\u001b[0m \u001b[0mget_eigs\u001b[0m\u001b[0;34m(\u001b[0m\u001b[0mK_sym\u001b[0m\u001b[0;34m)\u001b[0m\u001b[0;34m\u001b[0m\u001b[0;34m\u001b[0m\u001b[0m\n\u001b[0m\u001b[1;32m      8\u001b[0m     \u001b[0;31m#results.append(eigs)\u001b[0m\u001b[0;34m\u001b[0m\u001b[0;34m\u001b[0m\u001b[0m\n\u001b[1;32m      9\u001b[0m     \u001b[0mresults\u001b[0m\u001b[0;34m.\u001b[0m\u001b[0mextend\u001b[0m\u001b[0;34m(\u001b[0m\u001b[0meigs\u001b[0m\u001b[0;34m.\u001b[0m\u001b[0mtolist\u001b[0m\u001b[0;34m(\u001b[0m\u001b[0;34m)\u001b[0m\u001b[0;34m)\u001b[0m\u001b[0;34m\u001b[0m\u001b[0;34m\u001b[0m\u001b[0m\n",
            "\u001b[0;32m<ipython-input-7-935fbc0b9b07>\u001b[0m in \u001b[0;36mget_eigs\u001b[0;34m(H)\u001b[0m\n\u001b[1;32m      1\u001b[0m \u001b[0;32mdef\u001b[0m \u001b[0mget_eigs\u001b[0m\u001b[0;34m(\u001b[0m\u001b[0mH\u001b[0m\u001b[0;34m)\u001b[0m\u001b[0;34m:\u001b[0m\u001b[0;34m\u001b[0m\u001b[0;34m\u001b[0m\u001b[0m\n\u001b[0;32m----> 2\u001b[0;31m     \u001b[0mspectral_analysis\u001b[0m \u001b[0;34m=\u001b[0m \u001b[0mnp\u001b[0m\u001b[0;34m.\u001b[0m\u001b[0mlinalg\u001b[0m\u001b[0;34m.\u001b[0m\u001b[0meig\u001b[0m\u001b[0;34m(\u001b[0m\u001b[0mH\u001b[0m\u001b[0;34m)\u001b[0m\u001b[0;34m\u001b[0m\u001b[0;34m\u001b[0m\u001b[0m\n\u001b[0m\u001b[1;32m      3\u001b[0m     \u001b[0meig_vals\u001b[0m \u001b[0;34m=\u001b[0m \u001b[0mspectral_analysis\u001b[0m\u001b[0;34m[\u001b[0m\u001b[0;36m0\u001b[0m\u001b[0;34m]\u001b[0m\u001b[0;34m\u001b[0m\u001b[0;34m\u001b[0m\u001b[0m\n\u001b[1;32m      4\u001b[0m     \u001b[0;32mreturn\u001b[0m \u001b[0meig_vals\u001b[0m\u001b[0;34m\u001b[0m\u001b[0;34m\u001b[0m\u001b[0m\n",
            "\u001b[0;32m/usr/local/lib/python3.10/dist-packages/numpy/core/overrides.py\u001b[0m in \u001b[0;36meig\u001b[0;34m(*args, **kwargs)\u001b[0m\n",
            "\u001b[0;32m/usr/local/lib/python3.10/dist-packages/numpy/linalg/linalg.py\u001b[0m in \u001b[0;36meig\u001b[0;34m(a)\u001b[0m\n\u001b[1;32m   1316\u001b[0m         _raise_linalgerror_eigenvalues_nonconvergence)\n\u001b[1;32m   1317\u001b[0m     \u001b[0msignature\u001b[0m \u001b[0;34m=\u001b[0m \u001b[0;34m'D->DD'\u001b[0m \u001b[0;32mif\u001b[0m \u001b[0misComplexType\u001b[0m\u001b[0;34m(\u001b[0m\u001b[0mt\u001b[0m\u001b[0;34m)\u001b[0m \u001b[0;32melse\u001b[0m \u001b[0;34m'd->DD'\u001b[0m\u001b[0;34m\u001b[0m\u001b[0;34m\u001b[0m\u001b[0m\n\u001b[0;32m-> 1318\u001b[0;31m     \u001b[0mw\u001b[0m\u001b[0;34m,\u001b[0m \u001b[0mvt\u001b[0m \u001b[0;34m=\u001b[0m \u001b[0m_umath_linalg\u001b[0m\u001b[0;34m.\u001b[0m\u001b[0meig\u001b[0m\u001b[0;34m(\u001b[0m\u001b[0ma\u001b[0m\u001b[0;34m,\u001b[0m \u001b[0msignature\u001b[0m\u001b[0;34m=\u001b[0m\u001b[0msignature\u001b[0m\u001b[0;34m,\u001b[0m \u001b[0mextobj\u001b[0m\u001b[0;34m=\u001b[0m\u001b[0mextobj\u001b[0m\u001b[0;34m)\u001b[0m\u001b[0;34m\u001b[0m\u001b[0;34m\u001b[0m\u001b[0m\n\u001b[0m\u001b[1;32m   1319\u001b[0m \u001b[0;34m\u001b[0m\u001b[0m\n\u001b[1;32m   1320\u001b[0m     \u001b[0;32mif\u001b[0m \u001b[0;32mnot\u001b[0m \u001b[0misComplexType\u001b[0m\u001b[0;34m(\u001b[0m\u001b[0mt\u001b[0m\u001b[0;34m)\u001b[0m \u001b[0;32mand\u001b[0m \u001b[0mall\u001b[0m\u001b[0;34m(\u001b[0m\u001b[0mw\u001b[0m\u001b[0;34m.\u001b[0m\u001b[0mimag\u001b[0m \u001b[0;34m==\u001b[0m \u001b[0;36m0.0\u001b[0m\u001b[0;34m)\u001b[0m\u001b[0;34m:\u001b[0m\u001b[0;34m\u001b[0m\u001b[0;34m\u001b[0m\u001b[0m\n",
            "\u001b[0;31mKeyboardInterrupt\u001b[0m: "
          ]
        }
      ]
    },
    {
      "cell_type": "code",
      "source": [
        "len(results)"
      ],
      "metadata": {
        "colab": {
          "base_uri": "https://localhost:8080/"
        },
        "id": "_tcmAix-nWLv",
        "outputId": "7210c816-4155-4944-f167-cb4338478bae"
      },
      "execution_count": 12,
      "outputs": [
        {
          "output_type": "execute_result",
          "data": {
            "text/plain": [
              "172560"
            ]
          },
          "metadata": {},
          "execution_count": 12
        }
      ]
    },
    {
      "cell_type": "code",
      "source": [
        "# save current experiment (manual use)\n",
        "with open(\"exp_80mtx_100000exps_not_finished.pk1\", \"wb\") as file:\n",
        "    pickle.dump(results, file)"
      ],
      "metadata": {
        "id": "NUPTRZHWrw3J"
      },
      "execution_count": 17,
      "outputs": []
    },
    {
      "cell_type": "code",
      "source": [
        "plt.figure(figsize=(6,3), dpi=120)\n",
        "sbn.histplot(results, kde=True)\n",
        "\n",
        "plt.xlabel('eigenvalues')\n",
        "plt.savefig('hist_80_100000.png', dpi=300)\n",
        "\n",
        "plt.show()"
      ],
      "metadata": {
        "colab": {
          "base_uri": "https://localhost:8080/",
          "height": 372
        },
        "id": "ZnRuZJ6xjUHJ",
        "outputId": "de6b42f0-c447-4c07-c78c-51f2eabe40c4"
      },
      "execution_count": 18,
      "outputs": [
        {
          "output_type": "display_data",
          "data": {
            "text/plain": [
              "<Figure size 720x360 with 1 Axes>"
            ],
            "image/png": "[encoded data removed]"
          },
          "metadata": {}
        }
      ]
    },
    {
      "cell_type": "code",
      "source": [
        "# vysledky jakz takz pro:\n",
        "# - N = 80\n",
        "# - num_of_experiments = 10000 a vice\n",
        "# - diagonala z N(0,1), nediagonala z N(0,2)"
      ],
      "metadata": {
        "id": "IzVGcRAMnpMD"
      },
      "execution_count": 19,
      "outputs": []
    },
    {
      "cell_type": "markdown",
      "source": [
        "## paralelize"
      ],
      "metadata": {
        "id": "8XBcGNAcQ6-9"
      }
    },
    {
      "cell_type": "code",
      "source": [
        "import multiprocessing\n",
        "\n",
        "# Define your function\n",
        "def foo(a, b, c):\n",
        "    # Your function logic here\n",
        "    result = a + b + c\n",
        "    return result\n",
        "\n",
        "if __name__ == \"__main__\":\n",
        "    # Number of parallel processes\n",
        "    num_processes = 4  # You can adjust this to your hardware capabilities\n",
        "\n",
        "    # Create a multiprocessing pool\n",
        "    pool = multiprocessing.Pool(processes=num_processes)\n",
        "\n",
        "    # Define the arguments for foo function\n",
        "    a_values = [None]  # Example values for 'a'\n",
        "    b_values = [3]  # Example values for 'b'\n",
        "    c_values = [False]  # Example values for 'c'\n",
        "    # mylist = [True] * 120\n",
        "\n",
        "\n",
        "    # Create a list of argument tuples for foo\n",
        "    # args for 'experiment' func >>> (name:str = 'none', num_of_dims_of_mtx: int = 3, print_result: bool = False)\n",
        "    arguments = [(name, num_of_dims_of_mtx, print_result) for name, num_of_dims_of_mtx, print_result in zip(a_values, b_values, c_values)]\n",
        "\n",
        "    # Use Pool.starmap to run foo in parallel\n",
        "    results = pool.starmap(experiment, arguments)\n",
        "\n",
        "    # Close the pool (no more tasks can be added)\n",
        "    pool.close()\n",
        "\n",
        "    # Wait for all processes to complete\n",
        "    pool.join()\n",
        "\n",
        "    # 'results' will contain the results of running foo for each set of arguments\n",
        "    #print(results)\n"
      ],
      "metadata": {
        "id": "QMsb2SsQQ91S",
        "colab": {
          "base_uri": "https://localhost:8080/"
        },
        "outputId": "185fc843-ee87-4d05-a0a1-bc2de1795440"
      },
      "execution_count": 22,
      "outputs": [
        {
          "output_type": "stream",
          "name": "stdout",
          "text": [
            "[[3.008661490488588, -2.901478106621921, -3.8862819139224722]]\n"
          ]
        }
      ]
    },
    {
      "cell_type": "markdown",
      "source": [
        "## END"
      ],
      "metadata": {
        "id": "5yIU17mUH-pL"
      }
    },
    {
      "cell_type": "code",
      "source": [
        "from github import Github\n",
        "\n",
        "# Your GitHub access token\n",
        "access_token = 'YOUR_ACCESS_TOKEN'\n",
        "\n",
        "# Your repository information\n",
        "repository_owner = 'aleksejalex'\n",
        "repository_name = 'temp_rndmtx'\n",
        "\n",
        "# Path to the file you want to push\n",
        "file_path = 'hist_80_1000000.png'\n",
        "\n",
        "# Create a GitHub instance using your access token\n",
        "g = Github(access_token)\n",
        "\n",
        "# Get the repository\n",
        "repo = g.get_user(repository_owner).get_repo(repository_name)\n",
        "\n",
        "# Create a new commit to add the file to the repository\n",
        "with open(file_path, 'rb') as file:\n",
        "    content = file.read()\n",
        "    repo.create_file(file_path, 'Commit message', content)\n",
        "\n",
        "# Optionally, you can commit and push the changes to the repository branch\n",
        "# branch = repo.get_branch('main')  # Replace 'main' with your branch name\n",
        "# repo.update_file('path/to/im.jpg', 'Commit message', content, branch.commit.sha)\n"
      ],
      "metadata": {
        "id": "XttLmIBre2Ei"
      },
      "execution_count": null,
      "outputs": []
    },
    {
      "cell_type": "markdown",
      "source": [
        "## saving and loading python objects"
      ],
      "metadata": {
        "id": "qlm-rDBLrTGW"
      }
    },
    {
      "cell_type": "markdown",
      "source": [
        "### save>>"
      ],
      "metadata": {
        "id": "5-87b5RfuDkB"
      }
    },
    {
      "cell_type": "code",
      "source": [
        "import pickle\n",
        "\n",
        "# Your list data\n",
        "my_list = [1, 2, 3, 4, 5]\n",
        "\n",
        "# Specify the file name where you want to save the list\n",
        "file_name = \"my_list.pkl\"\n",
        "\n",
        "# Open the file in binary write mode and save the list using pickle\n",
        "with open(file_name, \"wb\") as file:\n",
        "    pickle.dump(my_list, file)\n",
        "\n",
        "del(my_list)"
      ],
      "metadata": {
        "id": "LYGIIEmne1-N"
      },
      "execution_count": null,
      "outputs": []
    },
    {
      "cell_type": "markdown",
      "source": [
        "### load>>"
      ],
      "metadata": {
        "id": "AcOgP7wluGbg"
      }
    },
    {
      "cell_type": "code",
      "source": [
        "import pickle\n",
        "\n",
        "# Specify the file name from which to load the list\n",
        "file_name = \"my_list.pkl\"\n",
        "\n",
        "# Open the file in binary read mode and load the list using pickle\n",
        "with open(file_name, \"rb\") as file:\n",
        "    loaded_list = pickle.load(file)\n",
        "\n",
        "# Now, loaded_list contains the data from the saved list\n",
        "print(loaded_list)\n"
      ],
      "metadata": {
        "id": "HxZLxxX7e14c"
      },
      "execution_count": null,
      "outputs": []
    },
    {
      "cell_type": "code",
      "source": [],
      "metadata": {
        "id": "utsssIy0e09k"
      },
      "execution_count": null,
      "outputs": []
    },
    {
      "cell_type": "code",
      "source": [
        "from github import Github\n",
        "\n",
        "# Your GitHub access token\n",
        "access_token = 'YOUR_ACCESS_TOKEN'\n",
        "\n",
        "# Your repository information\n",
        "repository_owner = 'your_username'\n",
        "repository_name = 'your_repo_name'\n",
        "\n",
        "# Path to the file you want to push\n",
        "file_path = 'path/to/im.jpg'\n",
        "\n",
        "# Create a GitHub instance using your access token\n",
        "g = Github(access_token)\n",
        "\n",
        "# Get the repository\n",
        "repo = g.get_user(repository_owner).get_repo(repository_name)\n",
        "\n",
        "# Create a new commit to add the file to the repository\n",
        "with open(file_path, 'rb') as file:\n",
        "    content = file.read()\n",
        "    repo.create_file('path/to/im.jpg', 'Commit message', content)\n",
        "\n",
        "# Optionally, you can commit and push the changes to the repository branch\n",
        "# branch = repo.get_branch('main')  # Replace 'main' with your branch name\n",
        "# repo.update_file('path/to/im.jpg', 'Commit message', content, branch.commit.sha)\n"
      ],
      "metadata": {
        "id": "9CraVmBDvMDH"
      },
      "execution_count": null,
      "outputs": []
    },
    {
      "cell_type": "code",
      "source": [],
      "metadata": {
        "id": "-XGhUVZEvL9J"
      },
      "execution_count": null,
      "outputs": []
    },
    {
      "cell_type": "markdown",
      "source": [
        "## paralel computing"
      ],
      "metadata": {
        "id": "szwDoDKm069s"
      }
    },
    {
      "cell_type": "code",
      "source": [
        "import multiprocessing\n",
        "\n",
        "# Define your function that returns a list with no input parameters\n",
        "def your_function(a):\n",
        "    # Replace this with the actual code of your function\n",
        "    result = [1, 2, 3, 4, 5]\n",
        "    return result\n",
        "\n",
        "# Number of times you want to run the function in parallel\n",
        "N = 4\n",
        "\n",
        "# Create a pool of worker processes\n",
        "pool = multiprocessing.Pool(processes=N)\n",
        "\n",
        "# Use the pool to parallelize the function execution\n",
        "results = pool.map(your_function, range(N))\n",
        "\n",
        "# Close the pool to free up resources\n",
        "pool.close()\n",
        "pool.join()\n",
        "\n",
        "# Now, 'results' will be a list of lists, each containing the output of your function\n",
        "print(results)\n"
      ],
      "metadata": {
        "id": "nL2AMEQB09Ge"
      },
      "execution_count": null,
      "outputs": []
    },
    {
      "cell_type": "code",
      "source": [
        "import multiprocessing\n",
        "\n",
        "# Define your function that returns a list with no input parameters\n",
        "def your_function(a):\n",
        "    # Replace this with the actual code of your function\n",
        "    result = [1, 2, 3, 4, 5]\n",
        "    return result\n",
        "\n",
        "# Number of times you want to run the function in parallel\n",
        "N = 4\n",
        "\n",
        "# Create a pool of worker processes\n",
        "pool = multiprocessing.Pool(processes=N)\n",
        "\n",
        "# Use the pool to parallelize the function execution\n",
        "results = pool.map(your_function, range(N))\n",
        "\n",
        "# Close the pool to free up resources\n",
        "pool.close()\n",
        "pool.join()\n",
        "\n",
        "# Now, 'results' will be a list of lists, each containing the output of your function\n",
        "print(results)\n"
      ],
      "metadata": {
        "id": "DGp8_y3-0-H-"
      },
      "execution_count": null,
      "outputs": []
    },
    {
      "cell_type": "code",
      "source": [
        "# my old way to do it >>>>>\n",
        "def demonstrate_parallel():\n",
        "    # Parallel in Python\n",
        "    print(\"Let's do some for in parallel...\")\n",
        "    import multiprocessing\n",
        "    import funforparfor\n",
        "\n",
        "    pool = multiprocessing.Pool(processes=8)\n",
        "    pool.map(funforparfor.func, range(10))\n",
        "    pool.close()\n",
        "    pool.join()\n",
        "    print(\" 'demonstrate_parallel()' has finished its job.\")"
      ],
      "metadata": {
        "id": "Gsg2a4m9pt9m"
      },
      "execution_count": null,
      "outputs": []
    },
    {
      "cell_type": "code",
      "source": [],
      "metadata": {
        "id": "lIwiEspxpt61"
      },
      "execution_count": null,
      "outputs": []
    },
    {
      "cell_type": "code",
      "source": [],
      "metadata": {
        "id": "WyrbcOgopt4K"
      },
      "execution_count": null,
      "outputs": []
    },
    {
      "cell_type": "code",
      "source": [
        "import multiprocessing\n",
        "\n",
        "# Define your function\n",
        "def foo(a, b, c):\n",
        "    # Your function logic here\n",
        "    result = a + b + c\n",
        "    return result\n",
        "\n",
        "if __name__ == \"__main__\":\n",
        "    # Number of parallel processes\n",
        "    num_processes = 4  # You can adjust this to your hardware capabilities\n",
        "\n",
        "    # Create a multiprocessing pool\n",
        "    pool = multiprocessing.Pool(processes=num_processes)\n",
        "\n",
        "    # Define the arguments for foo function\n",
        "    a_values = [1, 2, 3, 4, 5]  # Example values for 'a'\n",
        "    b_values = [10, 20, 30, 40, 50]  # Example values for 'b'\n",
        "    c_values = [100, 200, 300, 400, 500]  # Example values for 'c'\n",
        "\n",
        "    # Create a list of argument tuples for foo\n",
        "    arguments = [(a, b, c) for a, b, c in zip(a_values, b_values, c_values)]\n",
        "\n",
        "    # Use Pool.starmap to run foo in parallel\n",
        "    results = pool.starmap(foo, arguments)\n",
        "\n",
        "    # Close the pool (no more tasks can be added)\n",
        "    pool.close()\n",
        "\n",
        "    # Wait for all processes to complete\n",
        "    pool.join()\n",
        "\n",
        "    # 'results' will contain the results of running foo for each set of arguments\n",
        "    print(results)\n"
      ],
      "metadata": {
        "id": "_CuKkMwrpt1q",
        "outputId": "018f2d98-46e7-45f3-d798-1aadd4bc21ca",
        "colab": {
          "base_uri": "https://localhost:8080/"
        }
      },
      "execution_count": 16,
      "outputs": [
        {
          "output_type": "stream",
          "name": "stdout",
          "text": [
            "[111, 222, 333, 444, 555]\n"
          ]
        }
      ]
    },
    {
      "cell_type": "code",
      "source": [],
      "metadata": {
        "id": "VD5-iAXfptzZ"
      },
      "execution_count": null,
      "outputs": []
    }
  ]
}