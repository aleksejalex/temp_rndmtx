{
  "nbformat": 4,
  "nbformat_minor": 0,
  "metadata": {
    "colab": {
      "provenance": [],
      "authorship_tag": "ABX9TyO0wdd7vflX5FdVy1db5DMt",
      "include_colab_link": true
    },
    "kernelspec": {
      "name": "python3",
      "display_name": "Python 3"
    },
    "language_info": {
      "name": "python"
    }
  },
  "cells": [
    {
      "cell_type": "markdown",
      "metadata": {
        "id": "view-in-github",
        "colab_type": "text"
      },
      "source": [
        "<a href=\"https://colab.research.google.com/github/aleksejalex/temp_rndmtx/blob/main/TNM_lec1.ipynb\" target=\"_parent\"><img src=\"https://colab.research.google.com/assets/colab-badge.svg\" alt=\"Open In Colab\"/></a>"
      ]
    },
    {
      "cell_type": "code",
      "execution_count": 2,
      "metadata": {
        "id": "krINAbVhdQmO"
      },
      "outputs": [],
      "source": [
        "import numpy as np\n",
        "import scipy as scp\n",
        "import sympy as sp\n",
        "import seaborn as sbn\n",
        "import matplotlib.pyplot as plt\n",
        "import pickle"
      ]
    },
    {
      "cell_type": "code",
      "source": [
        "!pip install github"
      ],
      "metadata": {
        "colab": {
          "base_uri": "https://localhost:8080/"
        },
        "id": "vKHMmdRJv35P",
        "outputId": "024ce4aa-9c4c-46d2-96f4-7f65ae162bf3"
      },
      "execution_count": null,
      "outputs": [
        {
          "output_type": "stream",
          "name": "stdout",
          "text": [
            "Collecting github\n",
            "  Downloading github-1.2.7-py3-none-any.whl (15 kB)\n",
            "Collecting aiohttp==3.8.1 (from github)\n",
            "  Downloading aiohttp-3.8.1-cp310-cp310-manylinux_2_5_x86_64.manylinux1_x86_64.manylinux_2_12_x86_64.manylinux2010_x86_64.whl (1.2 MB)\n",
            "\u001b[2K     \u001b[90m━━━━━━━━━━━━━━━━━━━━━━━━━━━━━━━━━━━━━━━━\u001b[0m \u001b[32m1.2/1.2 MB\u001b[0m \u001b[31m18.2 MB/s\u001b[0m eta \u001b[36m0:00:00\u001b[0m\n",
            "\u001b[?25hRequirement already satisfied: typing-extensions in /usr/local/lib/python3.10/dist-packages (from github) (4.5.0)\n",
            "Requirement already satisfied: attrs>=17.3.0 in /usr/local/lib/python3.10/dist-packages (from aiohttp==3.8.1->github) (23.1.0)\n",
            "Collecting charset-normalizer<3.0,>=2.0 (from aiohttp==3.8.1->github)\n",
            "  Downloading charset_normalizer-2.1.1-py3-none-any.whl (39 kB)\n",
            "Requirement already satisfied: multidict<7.0,>=4.5 in /usr/local/lib/python3.10/dist-packages (from aiohttp==3.8.1->github) (6.0.4)\n",
            "Requirement already satisfied: async-timeout<5.0,>=4.0.0a3 in /usr/local/lib/python3.10/dist-packages (from aiohttp==3.8.1->github) (4.0.3)\n",
            "Requirement already satisfied: yarl<2.0,>=1.0 in /usr/local/lib/python3.10/dist-packages (from aiohttp==3.8.1->github) (1.9.2)\n",
            "Requirement already satisfied: frozenlist>=1.1.1 in /usr/local/lib/python3.10/dist-packages (from aiohttp==3.8.1->github) (1.4.0)\n",
            "Requirement already satisfied: aiosignal>=1.1.2 in /usr/local/lib/python3.10/dist-packages (from aiohttp==3.8.1->github) (1.3.1)\n",
            "Requirement already satisfied: idna>=2.0 in /usr/local/lib/python3.10/dist-packages (from yarl<2.0,>=1.0->aiohttp==3.8.1->github) (3.4)\n",
            "Installing collected packages: charset-normalizer, aiohttp, github\n",
            "  Attempting uninstall: charset-normalizer\n",
            "    Found existing installation: charset-normalizer 3.2.0\n",
            "    Uninstalling charset-normalizer-3.2.0:\n",
            "      Successfully uninstalled charset-normalizer-3.2.0\n",
            "  Attempting uninstall: aiohttp\n",
            "    Found existing installation: aiohttp 3.8.5\n",
            "    Uninstalling aiohttp-3.8.5:\n",
            "      Successfully uninstalled aiohttp-3.8.5\n",
            "Successfully installed aiohttp-3.8.1 charset-normalizer-2.1.1 github-1.2.7\n"
          ]
        }
      ]
    },
    {
      "cell_type": "markdown",
      "source": [
        "## definice a test fci"
      ],
      "metadata": {
        "id": "fTmNqT2epbIA"
      }
    },
    {
      "cell_type": "code",
      "source": [
        "def generate_H(N: int = 8):\n",
        "    H = np.zeros([N,N])\n",
        "    for i in range(N):\n",
        "        for j in range(N):\n",
        "            if i!=j:\n",
        "                mu = 0\n",
        "                sigma = 1\n",
        "                H[i,j] = mu + sigma * np.random.randn()\n",
        "            else:\n",
        "                mu = 0\n",
        "                sigma = 2\n",
        "                H[i,i] = mu + sigma * np.random.randn()\n",
        "    return H"
      ],
      "metadata": {
        "id": "upubL5e2dXu4"
      },
      "execution_count": 3,
      "outputs": []
    },
    {
      "cell_type": "code",
      "source": [
        "H = generate_H(3)\n",
        "print(H)"
      ],
      "metadata": {
        "id": "UV47N2C7dX2o",
        "colab": {
          "base_uri": "https://localhost:8080/"
        },
        "outputId": "39ec9a93-3c6a-49e3-935f-23625f1784ae"
      },
      "execution_count": 4,
      "outputs": [
        {
          "output_type": "stream",
          "name": "stdout",
          "text": [
            "[[-1.32069331  1.70020898 -0.59393515]\n",
            " [-0.37643509 -0.49307973  0.71286796]\n",
            " [ 0.25313515  0.25998189  1.48897766]]\n"
          ]
        }
      ]
    },
    {
      "cell_type": "code",
      "source": [
        "def symmetrize(H):\n",
        "    return (H+H.T) *(1/np.sqrt(2))"
      ],
      "metadata": {
        "id": "2bxced5Zgfya"
      },
      "execution_count": 5,
      "outputs": []
    },
    {
      "cell_type": "code",
      "source": [
        "H_sym = symmetrize(H)\n",
        "print(H_sym)"
      ],
      "metadata": {
        "colab": {
          "base_uri": "https://localhost:8080/"
        },
        "id": "ofb4Si99gfq1",
        "outputId": "59fa27be-8350-45d2-8eeb-072abe9fd8a5"
      },
      "execution_count": 6,
      "outputs": [
        {
          "output_type": "stream",
          "name": "stdout",
          "text": [
            "[[-1.86774239  0.9360495  -0.24098199]\n",
            " [ 0.9360495  -0.69732004  0.68790873]\n",
            " [-0.24098199  0.68790873  2.1057324 ]]\n"
          ]
        }
      ]
    },
    {
      "cell_type": "code",
      "source": [
        "def get_eigs(H):\n",
        "    spectral_analysis = np.linalg.eig(H)\n",
        "    eig_vals = spectral_analysis[0]\n",
        "    return eig_vals"
      ],
      "metadata": {
        "id": "DQKyCIwNgfjY"
      },
      "execution_count": 7,
      "outputs": []
    },
    {
      "cell_type": "code",
      "source": [
        "get_eigs(H_sym)"
      ],
      "metadata": {
        "colab": {
          "base_uri": "https://localhost:8080/"
        },
        "id": "mgJMUkWKjU2d",
        "outputId": "27fbb360-732d-4948-ead4-7221da902eda"
      },
      "execution_count": 8,
      "outputs": [
        {
          "output_type": "execute_result",
          "data": {
            "text/plain": [
              "array([-2.45293719, -0.27198502,  2.26559218])"
            ]
          },
          "metadata": {},
          "execution_count": 8
        }
      ]
    },
    {
      "cell_type": "markdown",
      "source": [
        "## experiment"
      ],
      "metadata": {
        "id": "YckiIVg4pY1S"
      }
    },
    {
      "cell_type": "code",
      "source": [
        "def experiment(name:str = 'none', num_of_dims_of_mtx: int = 3, print_result: bool = False):\n",
        "    result = []\n",
        "    K = generate_H(num_of_dims_of_mtx)\n",
        "    K_sym = symmetrize(K)\n",
        "    eigs = get_eigs(K_sym)\n",
        "    result.extend(eigs.tolist())\n",
        "    if print_result:\n",
        "        print(result)\n",
        "    return result"
      ],
      "metadata": {
        "id": "fnrS7BUJRMz6"
      },
      "execution_count": 13,
      "outputs": []
    },
    {
      "cell_type": "code",
      "source": [
        "for _ in range(2):\n",
        "    experiment(num_of_dims_of_mtx=3, print_result=True)"
      ],
      "metadata": {
        "colab": {
          "base_uri": "https://localhost:8080/"
        },
        "id": "Ho3qZZvlRwkE",
        "outputId": "ce19650c-e750-4efa-dcbb-8d80ee8db2b8"
      },
      "execution_count": 14,
      "outputs": [
        {
          "output_type": "stream",
          "name": "stdout",
          "text": [
            "[5.156881911442781, -4.73861940279502, -1.0751171766576326]\n",
            "[-0.6633181659499847, 2.792033054496112, 4.293056474609753]\n"
          ]
        }
      ]
    },
    {
      "cell_type": "code",
      "source": [
        "num_of_experiments = 100000\n",
        "num_of_dims_of_mtx = 80\n",
        "results = []\n",
        "for i in range(num_of_experiments):\n",
        "    K = generate_H(num_of_dims_of_mtx)\n",
        "    K_sym = symmetrize(K)\n",
        "    eigs = get_eigs(K_sym)\n",
        "    #results.append(eigs)\n",
        "    results.extend(eigs.tolist())\n",
        "\n",
        "#print(results)"
      ],
      "metadata": {
        "colab": {
          "base_uri": "https://localhost:8080/",
          "height": 381
        },
        "id": "_iWwVSmljUl0",
        "outputId": "67bcdd5b-aaa4-406c-c665-17ad52c978d1"
      },
      "execution_count": null,
      "outputs": [
        {
          "output_type": "error",
          "ename": "KeyboardInterrupt",
          "evalue": "ignored",
          "traceback": [
            "\u001b[0;31m---------------------------------------------------------------------------\u001b[0m",
            "\u001b[0;31mKeyboardInterrupt\u001b[0m                         Traceback (most recent call last)",
            "\u001b[0;32m<ipython-input-29-47d6f398fade>\u001b[0m in \u001b[0;36m<cell line: 4>\u001b[0;34m()\u001b[0m\n\u001b[1;32m      3\u001b[0m \u001b[0mresults\u001b[0m \u001b[0;34m=\u001b[0m \u001b[0;34m[\u001b[0m\u001b[0;34m]\u001b[0m\u001b[0;34m\u001b[0m\u001b[0;34m\u001b[0m\u001b[0m\n\u001b[1;32m      4\u001b[0m \u001b[0;32mfor\u001b[0m \u001b[0mi\u001b[0m \u001b[0;32min\u001b[0m \u001b[0mrange\u001b[0m\u001b[0;34m(\u001b[0m\u001b[0mnum_of_experiments\u001b[0m\u001b[0;34m)\u001b[0m\u001b[0;34m:\u001b[0m\u001b[0;34m\u001b[0m\u001b[0;34m\u001b[0m\u001b[0m\n\u001b[0;32m----> 5\u001b[0;31m     \u001b[0mK\u001b[0m \u001b[0;34m=\u001b[0m \u001b[0mgenerate_H\u001b[0m\u001b[0;34m(\u001b[0m\u001b[0mnum_of_dims_of_mtx\u001b[0m\u001b[0;34m)\u001b[0m\u001b[0;34m\u001b[0m\u001b[0;34m\u001b[0m\u001b[0m\n\u001b[0m\u001b[1;32m      6\u001b[0m     \u001b[0mK_sym\u001b[0m \u001b[0;34m=\u001b[0m \u001b[0msymmetrize\u001b[0m\u001b[0;34m(\u001b[0m\u001b[0mK\u001b[0m\u001b[0;34m)\u001b[0m\u001b[0;34m\u001b[0m\u001b[0;34m\u001b[0m\u001b[0m\n\u001b[1;32m      7\u001b[0m     \u001b[0meigs\u001b[0m \u001b[0;34m=\u001b[0m \u001b[0mget_eigs\u001b[0m\u001b[0;34m(\u001b[0m\u001b[0mK_sym\u001b[0m\u001b[0;34m)\u001b[0m\u001b[0;34m\u001b[0m\u001b[0;34m\u001b[0m\u001b[0m\n",
            "\u001b[0;32m<ipython-input-2-888346622def>\u001b[0m in \u001b[0;36mgenerate_H\u001b[0;34m(N)\u001b[0m\n\u001b[1;32m      6\u001b[0m                 \u001b[0mmu\u001b[0m \u001b[0;34m=\u001b[0m \u001b[0;36m0\u001b[0m\u001b[0;34m\u001b[0m\u001b[0;34m\u001b[0m\u001b[0m\n\u001b[1;32m      7\u001b[0m                 \u001b[0msigma\u001b[0m \u001b[0;34m=\u001b[0m \u001b[0;36m1\u001b[0m\u001b[0;34m\u001b[0m\u001b[0;34m\u001b[0m\u001b[0m\n\u001b[0;32m----> 8\u001b[0;31m                 \u001b[0mH\u001b[0m\u001b[0;34m[\u001b[0m\u001b[0mi\u001b[0m\u001b[0;34m,\u001b[0m\u001b[0mj\u001b[0m\u001b[0;34m]\u001b[0m \u001b[0;34m=\u001b[0m \u001b[0mmu\u001b[0m \u001b[0;34m+\u001b[0m \u001b[0msigma\u001b[0m \u001b[0;34m*\u001b[0m \u001b[0mnp\u001b[0m\u001b[0;34m.\u001b[0m\u001b[0mrandom\u001b[0m\u001b[0;34m.\u001b[0m\u001b[0mrandn\u001b[0m\u001b[0;34m(\u001b[0m\u001b[0;34m)\u001b[0m\u001b[0;34m\u001b[0m\u001b[0;34m\u001b[0m\u001b[0m\n\u001b[0m\u001b[1;32m      9\u001b[0m             \u001b[0;32melse\u001b[0m\u001b[0;34m:\u001b[0m\u001b[0;34m\u001b[0m\u001b[0;34m\u001b[0m\u001b[0m\n\u001b[1;32m     10\u001b[0m                 \u001b[0mmu\u001b[0m \u001b[0;34m=\u001b[0m \u001b[0;36m0\u001b[0m\u001b[0;34m\u001b[0m\u001b[0;34m\u001b[0m\u001b[0m\n",
            "\u001b[0;31mKeyboardInterrupt\u001b[0m: "
          ]
        }
      ]
    },
    {
      "cell_type": "code",
      "source": [
        "len(results)"
      ],
      "metadata": {
        "colab": {
          "base_uri": "https://localhost:8080/"
        },
        "id": "_tcmAix-nWLv",
        "outputId": "bd62996f-cd8d-4d31-81ad-53a5106f2e19"
      },
      "execution_count": null,
      "outputs": [
        {
          "output_type": "execute_result",
          "data": {
            "text/plain": [
              "5692880"
            ]
          },
          "metadata": {},
          "execution_count": 30
        }
      ]
    },
    {
      "cell_type": "code",
      "source": [
        "# save current experiment (manual use)\n",
        "with open(\"exp_80mtx_100000exps_not_finished.pk1\", \"wb\") as file:\n",
        "    pickle.dump(results, file)"
      ],
      "metadata": {
        "id": "NUPTRZHWrw3J"
      },
      "execution_count": null,
      "outputs": []
    },
    {
      "cell_type": "code",
      "source": [
        "plt.figure(figsize=(6,3), dpi=120)\n",
        "sbn.histplot(results, kde=True)\n",
        "\n",
        "plt.xlabel('eigenvalues')\n",
        "plt.savefig('hist_80_100000.png', dpi=300)\n",
        "\n",
        "plt.show()"
      ],
      "metadata": {
        "colab": {
          "base_uri": "https://localhost:8080/",
          "height": 372
        },
        "id": "ZnRuZJ6xjUHJ",
        "outputId": "b7f28f8d-8810-4451-d30b-bf3597f74d42"
      },
      "execution_count": null,
      "outputs": [
        {
          "output_type": "display_data",
          "data": {
            "text/plain": [
              "<Figure size 720x360 with 1 Axes>"
            ],
            "image/png": "[encoded data removed]"
          },
          "metadata": {}
        }
      ]
    },
    {
      "cell_type": "code",
      "source": [
        "# vysledky jakz takz pro:\n",
        "# - N = 80\n",
        "# - num_of_experiments = 10000 a vice\n",
        "# - diagonala z N(0,1), nediagonala z N(0,2)"
      ],
      "metadata": {
        "id": "IzVGcRAMnpMD"
      },
      "execution_count": null,
      "outputs": []
    },
    {
      "cell_type": "markdown",
      "source": [
        "## paralelize"
      ],
      "metadata": {
        "id": "8XBcGNAcQ6-9"
      }
    },
    {
      "cell_type": "code",
      "source": [
        "import multiprocessing\n",
        "\n",
        "# Define your function that returns a list with no input parameters\n",
        "def your_function():\n",
        "    # Replace this with the actual code of your function\n",
        "    result = [1, 2, 3, 4, 5]\n",
        "    return result\n",
        "\n",
        "# Number of times you want to run the function in parallel\n",
        "N = 4\n",
        "\n",
        "# Create a pool of worker processes\n",
        "pool = multiprocessing.Pool(processes=N)\n",
        "\n",
        "# Use the pool to parallelize the function execution\n",
        "results = pool.map(experiment, range(N))\n",
        "\n",
        "# Close the pool to free up resources\n",
        "pool.close()\n",
        "pool.join()\n",
        "\n",
        "# Now, 'results' will be a list of lists, each containing the output of your function\n",
        "print(results)\n"
      ],
      "metadata": {
        "id": "QMsb2SsQQ91S",
        "colab": {
          "base_uri": "https://localhost:8080/"
        },
        "outputId": "a1c5d355-d8e1-4928-9b66-e0b13f1efb3e"
      },
      "execution_count": 15,
      "outputs": [
        {
          "output_type": "stream",
          "name": "stdout",
          "text": [
            "[[1.4776293572186372, -1.8945478483914868, -0.8051880611396307], [1.4776293572186372, -1.8945478483914868, -0.8051880611396307], [1.4776293572186372, -1.8945478483914868, -0.8051880611396307], [-2.1719638719679697, 1.4246448406452221, 1.8880755796028015]]\n"
          ]
        }
      ]
    },
    {
      "cell_type": "markdown",
      "source": [
        "## END"
      ],
      "metadata": {
        "id": "5yIU17mUH-pL"
      }
    },
    {
      "cell_type": "code",
      "source": [
        "from github import Github\n",
        "\n",
        "# Your GitHub access token\n",
        "access_token = 'YOUR_ACCESS_TOKEN'\n",
        "\n",
        "# Your repository information\n",
        "repository_owner = 'aleksejalex'\n",
        "repository_name = 'temp_rndmtx'\n",
        "\n",
        "# Path to the file you want to push\n",
        "file_path = 'hist_80_1000000.png'\n",
        "\n",
        "# Create a GitHub instance using your access token\n",
        "g = Github(access_token)\n",
        "\n",
        "# Get the repository\n",
        "repo = g.get_user(repository_owner).get_repo(repository_name)\n",
        "\n",
        "# Create a new commit to add the file to the repository\n",
        "with open(file_path, 'rb') as file:\n",
        "    content = file.read()\n",
        "    repo.create_file(file_path, 'Commit message', content)\n",
        "\n",
        "# Optionally, you can commit and push the changes to the repository branch\n",
        "# branch = repo.get_branch('main')  # Replace 'main' with your branch name\n",
        "# repo.update_file('path/to/im.jpg', 'Commit message', content, branch.commit.sha)\n"
      ],
      "metadata": {
        "id": "XttLmIBre2Ei"
      },
      "execution_count": null,
      "outputs": []
    },
    {
      "cell_type": "markdown",
      "source": [
        "## saving and loading python objects"
      ],
      "metadata": {
        "id": "qlm-rDBLrTGW"
      }
    },
    {
      "cell_type": "markdown",
      "source": [
        "### save>>"
      ],
      "metadata": {
        "id": "5-87b5RfuDkB"
      }
    },
    {
      "cell_type": "code",
      "source": [
        "import pickle\n",
        "\n",
        "# Your list data\n",
        "my_list = [1, 2, 3, 4, 5]\n",
        "\n",
        "# Specify the file name where you want to save the list\n",
        "file_name = \"my_list.pkl\"\n",
        "\n",
        "# Open the file in binary write mode and save the list using pickle\n",
        "with open(file_name, \"wb\") as file:\n",
        "    pickle.dump(my_list, file)\n",
        "\n",
        "del(my_list)"
      ],
      "metadata": {
        "id": "LYGIIEmne1-N"
      },
      "execution_count": null,
      "outputs": []
    },
    {
      "cell_type": "markdown",
      "source": [
        "### load>>"
      ],
      "metadata": {
        "id": "AcOgP7wluGbg"
      }
    },
    {
      "cell_type": "code",
      "source": [
        "import pickle\n",
        "\n",
        "# Specify the file name from which to load the list\n",
        "file_name = \"my_list.pkl\"\n",
        "\n",
        "# Open the file in binary read mode and load the list using pickle\n",
        "with open(file_name, \"rb\") as file:\n",
        "    loaded_list = pickle.load(file)\n",
        "\n",
        "# Now, loaded_list contains the data from the saved list\n",
        "print(loaded_list)\n"
      ],
      "metadata": {
        "id": "HxZLxxX7e14c",
        "colab": {
          "base_uri": "https://localhost:8080/"
        },
        "outputId": "14403a44-f71d-4d71-9c69-fc722f7e50dc"
      },
      "execution_count": null,
      "outputs": [
        {
          "output_type": "stream",
          "name": "stdout",
          "text": [
            "[1, 2, 3, 4, 5]\n"
          ]
        }
      ]
    },
    {
      "cell_type": "code",
      "source": [],
      "metadata": {
        "id": "utsssIy0e09k"
      },
      "execution_count": null,
      "outputs": []
    },
    {
      "cell_type": "code",
      "source": [
        "from github import Github\n",
        "\n",
        "# Your GitHub access token\n",
        "access_token = 'YOUR_ACCESS_TOKEN'\n",
        "\n",
        "# Your repository information\n",
        "repository_owner = 'your_username'\n",
        "repository_name = 'your_repo_name'\n",
        "\n",
        "# Path to the file you want to push\n",
        "file_path = 'path/to/im.jpg'\n",
        "\n",
        "# Create a GitHub instance using your access token\n",
        "g = Github(access_token)\n",
        "\n",
        "# Get the repository\n",
        "repo = g.get_user(repository_owner).get_repo(repository_name)\n",
        "\n",
        "# Create a new commit to add the file to the repository\n",
        "with open(file_path, 'rb') as file:\n",
        "    content = file.read()\n",
        "    repo.create_file('path/to/im.jpg', 'Commit message', content)\n",
        "\n",
        "# Optionally, you can commit and push the changes to the repository branch\n",
        "# branch = repo.get_branch('main')  # Replace 'main' with your branch name\n",
        "# repo.update_file('path/to/im.jpg', 'Commit message', content, branch.commit.sha)\n"
      ],
      "metadata": {
        "id": "9CraVmBDvMDH"
      },
      "execution_count": null,
      "outputs": []
    },
    {
      "cell_type": "code",
      "source": [],
      "metadata": {
        "id": "-XGhUVZEvL9J"
      },
      "execution_count": null,
      "outputs": []
    },
    {
      "cell_type": "markdown",
      "source": [
        "## paralel computing"
      ],
      "metadata": {
        "id": "szwDoDKm069s"
      }
    },
    {
      "cell_type": "code",
      "source": [
        "import multiprocessing\n",
        "\n",
        "# Define your function that returns a list with no input parameters\n",
        "def your_function(a):\n",
        "    # Replace this with the actual code of your function\n",
        "    result = [1, 2, 3, 4, 5]\n",
        "    return result\n",
        "\n",
        "# Number of times you want to run the function in parallel\n",
        "N = 4\n",
        "\n",
        "# Create a pool of worker processes\n",
        "pool = multiprocessing.Pool(processes=N)\n",
        "\n",
        "# Use the pool to parallelize the function execution\n",
        "results = pool.map(your_function, range(N))\n",
        "\n",
        "# Close the pool to free up resources\n",
        "pool.close()\n",
        "pool.join()\n",
        "\n",
        "# Now, 'results' will be a list of lists, each containing the output of your function\n",
        "print(results)\n"
      ],
      "metadata": {
        "colab": {
          "base_uri": "https://localhost:8080/"
        },
        "id": "nL2AMEQB09Ge",
        "outputId": "27d9f435-169b-4589-bd31-70e141c16182"
      },
      "execution_count": null,
      "outputs": [
        {
          "output_type": "stream",
          "name": "stdout",
          "text": [
            "[[1, 2, 3, 4, 5], [1, 2, 3, 4, 5], [1, 2, 3, 4, 5], [1, 2, 3, 4, 5]]\n"
          ]
        }
      ]
    },
    {
      "cell_type": "code",
      "source": [],
      "metadata": {
        "id": "DGp8_y3-0-H-"
      },
      "execution_count": null,
      "outputs": []
    }
  ]
}